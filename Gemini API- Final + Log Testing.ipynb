{
 "cells": [
  {
   "cell_type": "code",
   "execution_count": 1,
   "metadata": {},
   "outputs": [],
   "source": [
    "# Import and set anything you might need\n",
    "import requests\n",
    "import json\n",
    "import base64\n",
    "import hmac\n",
    "import hashlib\n",
    "import datetime, time\n",
    "import numpy as np\n",
    "import pandas as pd\n",
    "import seaborn as sns\n",
    "import matplotlib.pyplot as plt\n",
    "import sys\n",
    "from datetime import date\n",
    "d1 = date.today()\n",
    "import logging\n",
    "logging.basicConfig(filename=\"Gemini.log\",\n",
    "                    format='%(asctime)s %(message)s',\n",
    "                    filemode='w')\n",
    "logging.getLogger().setLevel(logging.INFO)"
   ]
  },
  {
   "cell_type": "code",
   "execution_count": 2,
   "metadata": {},
   "outputs": [
    {
     "name": "stdout",
     "output_type": "stream",
     "text": [
      "[{'pair': 'SUSHIUSD', 'price': '9.1242', 'percentChange24h': '-0.0699'}, {'pair': 'UMAUSD', 'price': '17.3157', 'percentChange24h': '-0.0667'}, {'pair': 'DAIUSD', 'price': '1.00041', 'percentChange24h': '0.0002'}, {'pair': 'FTMUSD', 'price': '1.9842', 'percentChange24h': '-0.0780'}, {'pair': 'ETHDAI', 'price': '4143.19', 'percentChange24h': '-0.0113'}, {'pair': 'ZECUSD', 'price': '149.42', 'percentChange24h': '-0.0569'}, {'pair': 'LUNAUSD', 'price': '41.54', 'percentChange24h': '-0.0086'}, {'pair': 'LINKETH', 'price': '0.0067129', 'percentChange24h': '-0.0321'}, {'pair': 'BTCUSD', 'price': '58883.95', 'percentChange24h': '-0.0164'}, {'pair': 'ZECBTC', 'price': '0.00247', 'percentChange24h': '-0.0749'}, {'pair': 'SNXUSD', 'price': '8.4577', 'percentChange24h': '-0.0397'}, {'pair': 'CTXUSD', 'price': '14.0146', 'percentChange24h': '-0.0968'}, {'pair': 'STORJUSD', 'price': '2.16737', 'percentChange24h': '0.2887'}, {'pair': 'FETUSD', 'price': '0.7444', 'percentChange24h': '-0.0250'}, {'pair': 'ETHUSD', 'price': '4143.18', 'percentChange24h': '-0.0123'}, {'pair': 'DOGEBTC', 'price': '0.00000385', 'percentChange24h': '-0.0253'}, {'pair': 'OXTUSD', 'price': '0.52255', 'percentChange24h': '-0.0810'}, {'pair': 'LRCUSD', 'price': '2.29', 'percentChange24h': '-0.1244'}, {'pair': 'MIRUSD', 'price': '2.7401', 'percentChange24h': '-0.0264'}, {'pair': 'MASKUSD', 'price': '10.84', 'percentChange24h': '-0.0606'}, {'pair': 'BTCSGD', 'price': '80922.1', 'percentChange24h': '-0.0155'}, {'pair': 'AAVEUSD', 'price': '269.0651', 'percentChange24h': '-0.0357'}, {'pair': '1INCHUSD', 'price': '3.7148', 'percentChange24h': '-0.0317'}, {'pair': 'PAXGUSD', 'price': '1866.14', 'percentChange24h': '-0.0002'}, {'pair': 'BTCGUSD', 'price': '58960.52', 'percentChange24h': '-0.0176'}, {'pair': 'UNIUSD', 'price': '20.8653', 'percentChange24h': '-0.0364'}, {'pair': 'ZECLTC', 'price': '0.704', 'percentChange24h': '0.0159'}, {'pair': 'LTCUSD', 'price': '214.7', 'percentChange24h': '-0.0624'}, {'pair': 'ZRXUSD', 'price': '1.12079', 'percentChange24h': '-0.0061'}, {'pair': 'XTZUSD', 'price': '4.9159', 'percentChange24h': '-0.0514'}, {'pair': 'AUDIOUSD', 'price': '2.311', 'percentChange24h': '0.0754'}, {'pair': 'MATICUSD', 'price': '1.53468', 'percentChange24h': '-0.0181'}, {'pair': 'BCHBTC', 'price': '0.00967', 'percentChange24h': '-0.0183'}, {'pair': 'RAREUSD', 'price': '2.05', 'percentChange24h': '0.3740'}, {'pair': 'ZECETH', 'price': '0.0368', 'percentChange24h': '-0.0290'}, {'pair': 'BONDUSD', 'price': '29.3011', 'percentChange24h': '-0.0171'}, {'pair': 'RENUSD', 'price': '0.75134', 'percentChange24h': '-0.0526'}, {'pair': 'LPTUSD', 'price': '50.1735', 'percentChange24h': '-0.1198'}, {'pair': 'BNTUSD', 'price': '3.9904', 'percentChange24h': '-0.0208'}, {'pair': 'BATETH', 'price': '0.0002498', 'percentChange24h': '-0.0556'}, {'pair': 'ASHUSD', 'price': '50', 'percentChange24h': '0.0962'}, {'pair': 'ANKRUSD', 'price': '0.13444', 'percentChange24h': '0.0311'}, {'pair': 'SHIBUSD', 'price': '0.000044606', 'percentChange24h': '-0.0816'}, {'pair': 'LTCBCH', 'price': '0.3875', 'percentChange24h': '-0.0105'}, {'pair': 'LTCETH', 'price': '0.0519', 'percentChange24h': '-0.0495'}, {'pair': 'ETHBTC', 'price': '0.07035', 'percentChange24h': '0.0049'}, {'pair': 'MCO2USD', 'price': '9.95', 'percentChange24h': '-0.0010'}, {'pair': 'EFILFIL', 'price': '1', 'percentChange24h': '0.0000'}, {'pair': 'CRVUSD', 'price': '3.8346', 'percentChange24h': '-0.0060'}, {'pair': 'API3USD', 'price': '5.852', 'percentChange24h': '-0.0180'}, {'pair': 'ETHGUSD', 'price': '4155.69', 'percentChange24h': '-0.0097'}, {'pair': 'ETHGBP', 'price': '3084.5', 'percentChange24h': '-0.0084'}, {'pair': 'EFILUSD', 'price': '52.6208', 'percentChange24h': '-0.0461'}, {'pair': 'BATUSD', 'price': '1.01673', 'percentChange24h': '-0.0461'}, {'pair': 'OXTBTC', 'price': '0.00000883', 'percentChange24h': '-0.0705'}, {'pair': 'ALCXUSD', 'price': '368.83', 'percentChange24h': '-0.1444'}, {'pair': 'SLPUSD', 'price': '0.0636', 'percentChange24h': '-0.0245'}, {'pair': 'BTCDAI', 'price': '59264.35', 'percentChange24h': '-0.0167'}, {'pair': 'RADUSD', 'price': '13.594', 'percentChange24h': '-0.1288'}, {'pair': 'BTCGBP', 'price': '43832.81', 'percentChange24h': '-0.0140'}, {'pair': 'MANAUSD', 'price': '3.66793', 'percentChange24h': '0.1504'}, {'pair': 'OXTETH', 'price': '0.000126', 'percentChange24h': '-0.0701'}, {'pair': 'ENJUSD', 'price': '3.0582', 'percentChange24h': '0.0629'}, {'pair': 'USDCUSD', 'price': '1.00021', 'percentChange24h': '0.0001'}, {'pair': 'COMPUSD', 'price': '301.67', 'percentChange24h': '-0.0506'}, {'pair': 'USTUSD', 'price': '1.004', 'percentChange24h': '0.0010'}, {'pair': 'BCHETH', 'price': '0.1384', 'percentChange24h': '-0.0212'}, {'pair': 'LINKBTC', 'price': '0.00047128', 'percentChange24h': '-0.0340'}, {'pair': 'BTCEUR', 'price': '51965.75', 'percentChange24h': '-0.0196'}, {'pair': 'BCHUSD', 'price': '570.3', 'percentChange24h': '-0.0365'}, {'pair': 'GUSDUSD', 'price': '1', 'percentChange24h': '0.0000'}, {'pair': 'ETHEUR', 'price': '3679.89', 'percentChange24h': '-0.0087'}, {'pair': 'AXSUSD', 'price': '128.77', 'percentChange24h': '-0.0517'}, {'pair': 'NMRUSD', 'price': '40', 'percentChange24h': '-0.0046'}, {'pair': 'CUBEUSD', 'price': '17.4678', 'percentChange24h': '0.0716'}, {'pair': 'KNCUSD', 'price': '1.67889', 'percentChange24h': '-0.0393'}, {'pair': 'SANDUSD', 'price': '4.13405', 'percentChange24h': '0.2575'}, {'pair': 'ETHSGD', 'price': '5695.16', 'percentChange24h': '-0.0118'}, {'pair': 'BALUSD', 'price': '20.1819', 'percentChange24h': '-0.0477'}, {'pair': 'DOGEETH', 'price': '0.00005488', 'percentChange24h': '-0.0294'}, {'pair': 'QNTUSD', 'price': '231.87', 'percentChange24h': '-0.0708'}, {'pair': 'LINKUSD', 'price': '27.81982', 'percentChange24h': '-0.0456'}, {'pair': 'SKLUSD', 'price': '0.32036', 'percentChange24h': '-0.0141'}, {'pair': 'YFIUSD', 'price': '31744.43', 'percentChange24h': '0.0405'}, {'pair': 'WCFGUSD', 'price': '1.516', 'percentChange24h': '0.0257'}, {'pair': 'DOGEUSD', 'price': '0.2277', 'percentChange24h': '-0.0384'}, {'pair': 'FILUSD', 'price': '52.6208', 'percentChange24h': '-0.0461'}, {'pair': 'INJUSD', 'price': '10.9049', 'percentChange24h': '-0.1285'}, {'pair': 'AMPUSD', 'price': '0.05049', 'percentChange24h': '-0.0564'}, {'pair': 'LTCBTC', 'price': '0.00364', 'percentChange24h': '-0.0471'}, {'pair': 'ZECBCH', 'price': '0.26', 'percentChange24h': '0.0000'}, {'pair': 'MKRUSD', 'price': '2886.98', 'percentChange24h': '0.0474'}, {'pair': 'GRTUSD', 'price': '0.9027', 'percentChange24h': '-0.0088'}, {'pair': 'BATBTC', 'price': '0.00001721', 'percentChange24h': '-0.0331'}]\n"
     ]
    }
   ],
   "source": [
    "# Pull 24 Hour Change Data from Gemini\n",
    "\n",
    "logging.info(\"INFO - API GET\")\n",
    "base_url = \"https://api.gemini.com/v1\"\n",
    "response = requests.get(base_url + \"/pricefeed\")\n",
    "prices = response.json()\n",
    "\n",
    "print(prices)\n"
   ]
  },
  {
   "cell_type": "code",
   "execution_count": 3,
   "metadata": {
    "scrolled": true
   },
   "outputs": [
    {
     "data": {
      "text/plain": [
       "[{'pair': 'SUSHIUSD', 'price': '9.1242', 'percentChange24h': '-0.0699'},\n",
       " {'pair': 'UMAUSD', 'price': '17.3157', 'percentChange24h': '-0.0667'},\n",
       " {'pair': 'DAIUSD', 'price': '1.00041', 'percentChange24h': '0.0002'},\n",
       " {'pair': 'FTMUSD', 'price': '1.9842', 'percentChange24h': '-0.0780'},\n",
       " {'pair': 'ETHDAI', 'price': '4143.19', 'percentChange24h': '-0.0113'},\n",
       " {'pair': 'ZECUSD', 'price': '149.42', 'percentChange24h': '-0.0569'},\n",
       " {'pair': 'LUNAUSD', 'price': '41.54', 'percentChange24h': '-0.0086'},\n",
       " {'pair': 'LINKETH', 'price': '0.0067129', 'percentChange24h': '-0.0321'},\n",
       " {'pair': 'BTCUSD', 'price': '58883.95', 'percentChange24h': '-0.0164'},\n",
       " {'pair': 'ZECBTC', 'price': '0.00247', 'percentChange24h': '-0.0749'},\n",
       " {'pair': 'SNXUSD', 'price': '8.4577', 'percentChange24h': '-0.0397'},\n",
       " {'pair': 'CTXUSD', 'price': '14.0146', 'percentChange24h': '-0.0968'},\n",
       " {'pair': 'STORJUSD', 'price': '2.16737', 'percentChange24h': '0.2887'},\n",
       " {'pair': 'FETUSD', 'price': '0.7444', 'percentChange24h': '-0.0250'},\n",
       " {'pair': 'ETHUSD', 'price': '4143.18', 'percentChange24h': '-0.0123'},\n",
       " {'pair': 'DOGEBTC', 'price': '0.00000385', 'percentChange24h': '-0.0253'},\n",
       " {'pair': 'OXTUSD', 'price': '0.52255', 'percentChange24h': '-0.0810'},\n",
       " {'pair': 'LRCUSD', 'price': '2.29', 'percentChange24h': '-0.1244'},\n",
       " {'pair': 'MIRUSD', 'price': '2.7401', 'percentChange24h': '-0.0264'},\n",
       " {'pair': 'MASKUSD', 'price': '10.84', 'percentChange24h': '-0.0606'},\n",
       " {'pair': 'BTCSGD', 'price': '80922.1', 'percentChange24h': '-0.0155'},\n",
       " {'pair': 'AAVEUSD', 'price': '269.0651', 'percentChange24h': '-0.0357'},\n",
       " {'pair': '1INCHUSD', 'price': '3.7148', 'percentChange24h': '-0.0317'},\n",
       " {'pair': 'PAXGUSD', 'price': '1866.14', 'percentChange24h': '-0.0002'},\n",
       " {'pair': 'BTCGUSD', 'price': '58960.52', 'percentChange24h': '-0.0176'},\n",
       " {'pair': 'UNIUSD', 'price': '20.8653', 'percentChange24h': '-0.0364'},\n",
       " {'pair': 'ZECLTC', 'price': '0.704', 'percentChange24h': '0.0159'},\n",
       " {'pair': 'LTCUSD', 'price': '214.7', 'percentChange24h': '-0.0624'},\n",
       " {'pair': 'ZRXUSD', 'price': '1.12079', 'percentChange24h': '-0.0061'},\n",
       " {'pair': 'XTZUSD', 'price': '4.9159', 'percentChange24h': '-0.0514'},\n",
       " {'pair': 'AUDIOUSD', 'price': '2.311', 'percentChange24h': '0.0754'},\n",
       " {'pair': 'MATICUSD', 'price': '1.53468', 'percentChange24h': '-0.0181'},\n",
       " {'pair': 'BCHBTC', 'price': '0.00967', 'percentChange24h': '-0.0183'},\n",
       " {'pair': 'RAREUSD', 'price': '2.05', 'percentChange24h': '0.3740'},\n",
       " {'pair': 'ZECETH', 'price': '0.0368', 'percentChange24h': '-0.0290'},\n",
       " {'pair': 'BONDUSD', 'price': '29.3011', 'percentChange24h': '-0.0171'},\n",
       " {'pair': 'RENUSD', 'price': '0.75134', 'percentChange24h': '-0.0526'},\n",
       " {'pair': 'LPTUSD', 'price': '50.1735', 'percentChange24h': '-0.1198'},\n",
       " {'pair': 'BNTUSD', 'price': '3.9904', 'percentChange24h': '-0.0208'},\n",
       " {'pair': 'BATETH', 'price': '0.0002498', 'percentChange24h': '-0.0556'},\n",
       " {'pair': 'ASHUSD', 'price': '50', 'percentChange24h': '0.0962'},\n",
       " {'pair': 'ANKRUSD', 'price': '0.13444', 'percentChange24h': '0.0311'},\n",
       " {'pair': 'SHIBUSD', 'price': '0.000044606', 'percentChange24h': '-0.0816'},\n",
       " {'pair': 'LTCBCH', 'price': '0.3875', 'percentChange24h': '-0.0105'},\n",
       " {'pair': 'LTCETH', 'price': '0.0519', 'percentChange24h': '-0.0495'},\n",
       " {'pair': 'ETHBTC', 'price': '0.07035', 'percentChange24h': '0.0049'},\n",
       " {'pair': 'MCO2USD', 'price': '9.95', 'percentChange24h': '-0.0010'},\n",
       " {'pair': 'EFILFIL', 'price': '1', 'percentChange24h': '0.0000'},\n",
       " {'pair': 'CRVUSD', 'price': '3.8346', 'percentChange24h': '-0.0060'},\n",
       " {'pair': 'API3USD', 'price': '5.852', 'percentChange24h': '-0.0180'},\n",
       " {'pair': 'ETHGUSD', 'price': '4155.69', 'percentChange24h': '-0.0097'},\n",
       " {'pair': 'ETHGBP', 'price': '3084.5', 'percentChange24h': '-0.0084'},\n",
       " {'pair': 'EFILUSD', 'price': '52.6208', 'percentChange24h': '-0.0461'},\n",
       " {'pair': 'BATUSD', 'price': '1.01673', 'percentChange24h': '-0.0461'},\n",
       " {'pair': 'OXTBTC', 'price': '0.00000883', 'percentChange24h': '-0.0705'},\n",
       " {'pair': 'ALCXUSD', 'price': '368.83', 'percentChange24h': '-0.1444'},\n",
       " {'pair': 'SLPUSD', 'price': '0.0636', 'percentChange24h': '-0.0245'},\n",
       " {'pair': 'BTCDAI', 'price': '59264.35', 'percentChange24h': '-0.0167'},\n",
       " {'pair': 'RADUSD', 'price': '13.594', 'percentChange24h': '-0.1288'},\n",
       " {'pair': 'BTCGBP', 'price': '43832.81', 'percentChange24h': '-0.0140'},\n",
       " {'pair': 'MANAUSD', 'price': '3.66793', 'percentChange24h': '0.1504'},\n",
       " {'pair': 'OXTETH', 'price': '0.000126', 'percentChange24h': '-0.0701'},\n",
       " {'pair': 'ENJUSD', 'price': '3.0582', 'percentChange24h': '0.0629'},\n",
       " {'pair': 'USDCUSD', 'price': '1.00021', 'percentChange24h': '0.0001'},\n",
       " {'pair': 'COMPUSD', 'price': '301.67', 'percentChange24h': '-0.0506'},\n",
       " {'pair': 'USTUSD', 'price': '1.004', 'percentChange24h': '0.0010'},\n",
       " {'pair': 'BCHETH', 'price': '0.1384', 'percentChange24h': '-0.0212'},\n",
       " {'pair': 'LINKBTC', 'price': '0.00047128', 'percentChange24h': '-0.0340'},\n",
       " {'pair': 'BTCEUR', 'price': '51965.75', 'percentChange24h': '-0.0196'},\n",
       " {'pair': 'BCHUSD', 'price': '570.3', 'percentChange24h': '-0.0365'},\n",
       " {'pair': 'GUSDUSD', 'price': '1', 'percentChange24h': '0.0000'},\n",
       " {'pair': 'ETHEUR', 'price': '3679.89', 'percentChange24h': '-0.0087'},\n",
       " {'pair': 'AXSUSD', 'price': '128.77', 'percentChange24h': '-0.0517'},\n",
       " {'pair': 'NMRUSD', 'price': '40', 'percentChange24h': '-0.0046'},\n",
       " {'pair': 'CUBEUSD', 'price': '17.4678', 'percentChange24h': '0.0716'},\n",
       " {'pair': 'KNCUSD', 'price': '1.67889', 'percentChange24h': '-0.0393'},\n",
       " {'pair': 'SANDUSD', 'price': '4.13405', 'percentChange24h': '0.2575'},\n",
       " {'pair': 'ETHSGD', 'price': '5695.16', 'percentChange24h': '-0.0118'},\n",
       " {'pair': 'BALUSD', 'price': '20.1819', 'percentChange24h': '-0.0477'},\n",
       " {'pair': 'DOGEETH', 'price': '0.00005488', 'percentChange24h': '-0.0294'},\n",
       " {'pair': 'QNTUSD', 'price': '231.87', 'percentChange24h': '-0.0708'},\n",
       " {'pair': 'LINKUSD', 'price': '27.81982', 'percentChange24h': '-0.0456'},\n",
       " {'pair': 'SKLUSD', 'price': '0.32036', 'percentChange24h': '-0.0141'},\n",
       " {'pair': 'YFIUSD', 'price': '31744.43', 'percentChange24h': '0.0405'},\n",
       " {'pair': 'WCFGUSD', 'price': '1.516', 'percentChange24h': '0.0257'},\n",
       " {'pair': 'DOGEUSD', 'price': '0.2277', 'percentChange24h': '-0.0384'},\n",
       " {'pair': 'FILUSD', 'price': '52.6208', 'percentChange24h': '-0.0461'},\n",
       " {'pair': 'INJUSD', 'price': '10.9049', 'percentChange24h': '-0.1285'},\n",
       " {'pair': 'AMPUSD', 'price': '0.05049', 'percentChange24h': '-0.0564'},\n",
       " {'pair': 'LTCBTC', 'price': '0.00364', 'percentChange24h': '-0.0471'},\n",
       " {'pair': 'ZECBCH', 'price': '0.26', 'percentChange24h': '0.0000'},\n",
       " {'pair': 'MKRUSD', 'price': '2886.98', 'percentChange24h': '0.0474'},\n",
       " {'pair': 'GRTUSD', 'price': '0.9027', 'percentChange24h': '-0.0088'},\n",
       " {'pair': 'BATBTC', 'price': '0.00001721', 'percentChange24h': '-0.0331'}]"
      ]
     },
     "execution_count": 3,
     "metadata": {},
     "output_type": "execute_result"
    }
   ],
   "source": [
    "# Check to see how the data looks\n",
    "logging.info(\"INFO - Check to see how the data looks\")\n",
    "prices"
   ]
  },
  {
   "cell_type": "code",
   "execution_count": 4,
   "metadata": {
    "scrolled": true
   },
   "outputs": [
    {
     "data": {
      "text/html": [
       "<div>\n",
       "<style scoped>\n",
       "    .dataframe tbody tr th:only-of-type {\n",
       "        vertical-align: middle;\n",
       "    }\n",
       "\n",
       "    .dataframe tbody tr th {\n",
       "        vertical-align: top;\n",
       "    }\n",
       "\n",
       "    .dataframe thead th {\n",
       "        text-align: right;\n",
       "    }\n",
       "</style>\n",
       "<table border=\"1\" class=\"dataframe\">\n",
       "  <thead>\n",
       "    <tr style=\"text-align: right;\">\n",
       "      <th></th>\n",
       "      <th>pair</th>\n",
       "      <th>price</th>\n",
       "      <th>percentChange24h</th>\n",
       "    </tr>\n",
       "  </thead>\n",
       "  <tbody>\n",
       "    <tr>\n",
       "      <th>0</th>\n",
       "      <td>SUSHIUSD</td>\n",
       "      <td>9.1242</td>\n",
       "      <td>-0.0699</td>\n",
       "    </tr>\n",
       "    <tr>\n",
       "      <th>1</th>\n",
       "      <td>UMAUSD</td>\n",
       "      <td>17.3157</td>\n",
       "      <td>-0.0667</td>\n",
       "    </tr>\n",
       "    <tr>\n",
       "      <th>2</th>\n",
       "      <td>DAIUSD</td>\n",
       "      <td>1.00041</td>\n",
       "      <td>0.0002</td>\n",
       "    </tr>\n",
       "    <tr>\n",
       "      <th>3</th>\n",
       "      <td>FTMUSD</td>\n",
       "      <td>1.9842</td>\n",
       "      <td>-0.0780</td>\n",
       "    </tr>\n",
       "    <tr>\n",
       "      <th>4</th>\n",
       "      <td>ETHDAI</td>\n",
       "      <td>4143.19</td>\n",
       "      <td>-0.0113</td>\n",
       "    </tr>\n",
       "  </tbody>\n",
       "</table>\n",
       "</div>"
      ],
      "text/plain": [
       "       pair    price percentChange24h\n",
       "0  SUSHIUSD   9.1242          -0.0699\n",
       "1    UMAUSD  17.3157          -0.0667\n",
       "2    DAIUSD  1.00041           0.0002\n",
       "3    FTMUSD   1.9842          -0.0780\n",
       "4    ETHDAI  4143.19          -0.0113"
      ]
     },
     "execution_count": 4,
     "metadata": {},
     "output_type": "execute_result"
    }
   ],
   "source": [
    "# Convert the data into 2 different dataframes, and check the first couple.\n",
    "logging.info(\"INFO - Convert the data into 2 different dataframes, and check the first couple.\")\n",
    "df_gain = pd.json_normalize(prices)\n",
    "df_loss = pd.json_normalize(prices)\n",
    "df_gain.head()"
   ]
  },
  {
   "cell_type": "code",
   "execution_count": 5,
   "metadata": {},
   "outputs": [],
   "source": [
    "# Set all the 24 hour % change data as floats\n",
    "logging.info(\"INFO - Set all the 24 hour % change data as floats.\")\n",
    "df_gain['percentChange24h'] = df_gain['percentChange24h'].astype(float)\n",
    "df_loss['percentChange24h'] = df_gain['percentChange24h'].astype(float)"
   ]
  },
  {
   "cell_type": "code",
   "execution_count": 6,
   "metadata": {},
   "outputs": [
    {
     "data": {
      "text/plain": [
       "0     0.0699\n",
       "1     0.0667\n",
       "2     0.0002\n",
       "3     0.0780\n",
       "4     0.0113\n",
       "       ...  \n",
       "89    0.0471\n",
       "90    0.0000\n",
       "91    0.0474\n",
       "92    0.0088\n",
       "93    0.0331\n",
       "Name: percentChange24h, Length: 94, dtype: float64"
      ]
     },
     "execution_count": 6,
     "metadata": {},
     "output_type": "execute_result"
    }
   ],
   "source": [
    "# Set 'x' to the absolute value of all 24 hour % change data \n",
    "logging.info(\"INFO - Set 'x' to the absolute value of all 24 hour % change data.\")\n",
    "x = abs(df_gain['percentChange24h'])\n",
    "x"
   ]
  },
  {
   "cell_type": "code",
   "execution_count": 7,
   "metadata": {},
   "outputs": [
    {
     "data": {
      "text/plain": [
       "count    94.000000\n",
       "mean      0.049234\n",
       "std       0.058811\n",
       "min       0.000000\n",
       "25%       0.015600\n",
       "50%       0.034850\n",
       "75%       0.061950\n",
       "max       0.374000\n",
       "Name: percentChange24h, dtype: float64"
      ]
     },
     "execution_count": 7,
     "metadata": {},
     "output_type": "execute_result"
    }
   ],
   "source": [
    "# Get a simple statistical breakdown of the 24 hour % change data\n",
    "logging.info(\"INFO - Get a simple statistical breakdown of the 24 hour % change data\")\n",
    "x.describe()\n"
   ]
  },
  {
   "cell_type": "code",
   "execution_count": 8,
   "metadata": {},
   "outputs": [],
   "source": [
    "# Set x to the standard deviation of the 24 hour % change data\n",
    "logging.info(f\"INFO std\")\n",
    "x = x.describe()[\"std\"]\n",
    "x\n",
    "logging.info(f\"INFO std = {x}\")"
   ]
  },
  {
   "cell_type": "code",
   "execution_count": 9,
   "metadata": {},
   "outputs": [],
   "source": [
    "# Adjust the data frames to only show pairs below and about the std\n",
    "logging.error(f\"ERROR - The following coins are more than one standard deviation in growth from the total 24 hour % change {df_gain}\")\n",
    "logging.error(f\"ERROR - The following coins are more than one standard deviation in growth from the total 24 hour % change {df_loss}\")\n",
    "logging.getLogger().setLevel(logging.ERROR)\n",
    "df_gain = df_gain[df_gain.percentChange24h > x]\n",
    "df_loss = df_loss[df_loss.percentChange24h < -x]\n"
   ]
  },
  {
   "cell_type": "code",
   "execution_count": 10,
   "metadata": {},
   "outputs": [
    {
     "name": "stdout",
     "output_type": "stream",
     "text": [
      "ALERT: The following coins are more than one standard deviation in growth from the total 24 hour % change for 2021-11-18\n",
      " Standard Deviation - 0.05881061010482204%\n"
     ]
    },
    {
     "data": {
      "text/html": [
       "<div>\n",
       "<style scoped>\n",
       "    .dataframe tbody tr th:only-of-type {\n",
       "        vertical-align: middle;\n",
       "    }\n",
       "\n",
       "    .dataframe tbody tr th {\n",
       "        vertical-align: top;\n",
       "    }\n",
       "\n",
       "    .dataframe thead th {\n",
       "        text-align: right;\n",
       "    }\n",
       "</style>\n",
       "<table border=\"1\" class=\"dataframe\">\n",
       "  <thead>\n",
       "    <tr style=\"text-align: right;\">\n",
       "      <th></th>\n",
       "      <th>pair</th>\n",
       "      <th>price</th>\n",
       "      <th>percentChange24h</th>\n",
       "    </tr>\n",
       "  </thead>\n",
       "  <tbody>\n",
       "    <tr>\n",
       "      <th>12</th>\n",
       "      <td>STORJUSD</td>\n",
       "      <td>2.16737</td>\n",
       "      <td>0.2887</td>\n",
       "    </tr>\n",
       "    <tr>\n",
       "      <th>30</th>\n",
       "      <td>AUDIOUSD</td>\n",
       "      <td>2.311</td>\n",
       "      <td>0.0754</td>\n",
       "    </tr>\n",
       "    <tr>\n",
       "      <th>33</th>\n",
       "      <td>RAREUSD</td>\n",
       "      <td>2.05</td>\n",
       "      <td>0.3740</td>\n",
       "    </tr>\n",
       "    <tr>\n",
       "      <th>40</th>\n",
       "      <td>ASHUSD</td>\n",
       "      <td>50</td>\n",
       "      <td>0.0962</td>\n",
       "    </tr>\n",
       "    <tr>\n",
       "      <th>60</th>\n",
       "      <td>MANAUSD</td>\n",
       "      <td>3.66793</td>\n",
       "      <td>0.1504</td>\n",
       "    </tr>\n",
       "    <tr>\n",
       "      <th>62</th>\n",
       "      <td>ENJUSD</td>\n",
       "      <td>3.0582</td>\n",
       "      <td>0.0629</td>\n",
       "    </tr>\n",
       "    <tr>\n",
       "      <th>74</th>\n",
       "      <td>CUBEUSD</td>\n",
       "      <td>17.4678</td>\n",
       "      <td>0.0716</td>\n",
       "    </tr>\n",
       "    <tr>\n",
       "      <th>76</th>\n",
       "      <td>SANDUSD</td>\n",
       "      <td>4.13405</td>\n",
       "      <td>0.2575</td>\n",
       "    </tr>\n",
       "  </tbody>\n",
       "</table>\n",
       "</div>"
      ],
      "text/plain": [
       "        pair    price  percentChange24h\n",
       "12  STORJUSD  2.16737            0.2887\n",
       "30  AUDIOUSD    2.311            0.0754\n",
       "33   RAREUSD     2.05            0.3740\n",
       "40    ASHUSD       50            0.0962\n",
       "60   MANAUSD  3.66793            0.1504\n",
       "62    ENJUSD   3.0582            0.0629\n",
       "74   CUBEUSD  17.4678            0.0716\n",
       "76   SANDUSD  4.13405            0.2575"
      ]
     },
     "execution_count": 10,
     "metadata": {},
     "output_type": "execute_result"
    }
   ],
   "source": [
    "print(f\"ALERT: The following coins are more than one standard deviation in growth from the total 24 hour % change for {d1}\\n Standard Deviation - {x}%\")\n",
    "df_gain"
   ]
  },
  {
   "cell_type": "code",
   "execution_count": 11,
   "metadata": {},
   "outputs": [
    {
     "name": "stdout",
     "output_type": "stream",
     "text": [
      "ALERT: The following coins are more than one standard deviation in loss from the total 24 hour % change for 2021-11-18\n",
      " Standard Deviation - 0.05881061010482204%\n"
     ]
    },
    {
     "data": {
      "text/html": [
       "<div>\n",
       "<style scoped>\n",
       "    .dataframe tbody tr th:only-of-type {\n",
       "        vertical-align: middle;\n",
       "    }\n",
       "\n",
       "    .dataframe tbody tr th {\n",
       "        vertical-align: top;\n",
       "    }\n",
       "\n",
       "    .dataframe thead th {\n",
       "        text-align: right;\n",
       "    }\n",
       "</style>\n",
       "<table border=\"1\" class=\"dataframe\">\n",
       "  <thead>\n",
       "    <tr style=\"text-align: right;\">\n",
       "      <th></th>\n",
       "      <th>pair</th>\n",
       "      <th>price</th>\n",
       "      <th>percentChange24h</th>\n",
       "    </tr>\n",
       "  </thead>\n",
       "  <tbody>\n",
       "    <tr>\n",
       "      <th>0</th>\n",
       "      <td>SUSHIUSD</td>\n",
       "      <td>9.1242</td>\n",
       "      <td>-0.0699</td>\n",
       "    </tr>\n",
       "    <tr>\n",
       "      <th>1</th>\n",
       "      <td>UMAUSD</td>\n",
       "      <td>17.3157</td>\n",
       "      <td>-0.0667</td>\n",
       "    </tr>\n",
       "    <tr>\n",
       "      <th>3</th>\n",
       "      <td>FTMUSD</td>\n",
       "      <td>1.9842</td>\n",
       "      <td>-0.0780</td>\n",
       "    </tr>\n",
       "    <tr>\n",
       "      <th>9</th>\n",
       "      <td>ZECBTC</td>\n",
       "      <td>0.00247</td>\n",
       "      <td>-0.0749</td>\n",
       "    </tr>\n",
       "    <tr>\n",
       "      <th>11</th>\n",
       "      <td>CTXUSD</td>\n",
       "      <td>14.0146</td>\n",
       "      <td>-0.0968</td>\n",
       "    </tr>\n",
       "    <tr>\n",
       "      <th>16</th>\n",
       "      <td>OXTUSD</td>\n",
       "      <td>0.52255</td>\n",
       "      <td>-0.0810</td>\n",
       "    </tr>\n",
       "    <tr>\n",
       "      <th>17</th>\n",
       "      <td>LRCUSD</td>\n",
       "      <td>2.29</td>\n",
       "      <td>-0.1244</td>\n",
       "    </tr>\n",
       "    <tr>\n",
       "      <th>19</th>\n",
       "      <td>MASKUSD</td>\n",
       "      <td>10.84</td>\n",
       "      <td>-0.0606</td>\n",
       "    </tr>\n",
       "    <tr>\n",
       "      <th>27</th>\n",
       "      <td>LTCUSD</td>\n",
       "      <td>214.7</td>\n",
       "      <td>-0.0624</td>\n",
       "    </tr>\n",
       "    <tr>\n",
       "      <th>37</th>\n",
       "      <td>LPTUSD</td>\n",
       "      <td>50.1735</td>\n",
       "      <td>-0.1198</td>\n",
       "    </tr>\n",
       "    <tr>\n",
       "      <th>42</th>\n",
       "      <td>SHIBUSD</td>\n",
       "      <td>0.000044606</td>\n",
       "      <td>-0.0816</td>\n",
       "    </tr>\n",
       "    <tr>\n",
       "      <th>54</th>\n",
       "      <td>OXTBTC</td>\n",
       "      <td>0.00000883</td>\n",
       "      <td>-0.0705</td>\n",
       "    </tr>\n",
       "    <tr>\n",
       "      <th>55</th>\n",
       "      <td>ALCXUSD</td>\n",
       "      <td>368.83</td>\n",
       "      <td>-0.1444</td>\n",
       "    </tr>\n",
       "    <tr>\n",
       "      <th>58</th>\n",
       "      <td>RADUSD</td>\n",
       "      <td>13.594</td>\n",
       "      <td>-0.1288</td>\n",
       "    </tr>\n",
       "    <tr>\n",
       "      <th>61</th>\n",
       "      <td>OXTETH</td>\n",
       "      <td>0.000126</td>\n",
       "      <td>-0.0701</td>\n",
       "    </tr>\n",
       "    <tr>\n",
       "      <th>80</th>\n",
       "      <td>QNTUSD</td>\n",
       "      <td>231.87</td>\n",
       "      <td>-0.0708</td>\n",
       "    </tr>\n",
       "    <tr>\n",
       "      <th>87</th>\n",
       "      <td>INJUSD</td>\n",
       "      <td>10.9049</td>\n",
       "      <td>-0.1285</td>\n",
       "    </tr>\n",
       "  </tbody>\n",
       "</table>\n",
       "</div>"
      ],
      "text/plain": [
       "        pair        price  percentChange24h\n",
       "0   SUSHIUSD       9.1242           -0.0699\n",
       "1     UMAUSD      17.3157           -0.0667\n",
       "3     FTMUSD       1.9842           -0.0780\n",
       "9     ZECBTC      0.00247           -0.0749\n",
       "11    CTXUSD      14.0146           -0.0968\n",
       "16    OXTUSD      0.52255           -0.0810\n",
       "17    LRCUSD         2.29           -0.1244\n",
       "19   MASKUSD        10.84           -0.0606\n",
       "27    LTCUSD        214.7           -0.0624\n",
       "37    LPTUSD      50.1735           -0.1198\n",
       "42   SHIBUSD  0.000044606           -0.0816\n",
       "54    OXTBTC   0.00000883           -0.0705\n",
       "55   ALCXUSD       368.83           -0.1444\n",
       "58    RADUSD       13.594           -0.1288\n",
       "61    OXTETH     0.000126           -0.0701\n",
       "80    QNTUSD       231.87           -0.0708\n",
       "87    INJUSD      10.9049           -0.1285"
      ]
     },
     "execution_count": 11,
     "metadata": {},
     "output_type": "execute_result"
    }
   ],
   "source": [
    "print(f\"ALERT: The following coins are more than one standard deviation in loss from the total 24 hour % change for {d1}\\n Standard Deviation - {x}%\")\n",
    "df_loss"
   ]
  },
  {
   "cell_type": "code",
   "execution_count": 12,
   "metadata": {},
   "outputs": [
    {
     "data": {
      "image/png": "[encoded data removed]",
      "text/plain": [
       "<Figure size 1440x720 with 1 Axes>"
      ]
     },
     "metadata": {},
     "output_type": "display_data"
    }
   ],
   "source": [
    "logging.error(\"ERROR - Scatterplot for Positive 24 Hr % Change over 1 STD\")\n",
    "sns.set_style(\"darkgrid\")\n",
    "fig = plt.gcf()\n",
    "fig.set_size_inches(20,10)\n",
    "sns.swarmplot(x=\"pair\", y=\"percentChange24h\", data=df_gain, size=20, palette=\"deep\").set(title=f'{d1}: Positive 24 Hr % Change over 1 STD')\n",
    "plt.show()\n"
   ]
  },
  {
   "cell_type": "code",
   "execution_count": 13,
   "metadata": {},
   "outputs": [
    {
     "data": {
      "image/png": "[encoded data removed]",
      "text/plain": [
       "<Figure size 1728x720 with 1 Axes>"
      ]
     },
     "metadata": {},
     "output_type": "display_data"
    }
   ],
   "source": [
    "logging.error(\"ERROR - Scatterplot for Negative 24 Hr % Change under 1 STD\")\n",
    "sns.set_style(\"darkgrid\")\n",
    "fig = plt.gcf()\n",
    "fig.set_size_inches(24,10)\n",
    "sns.swarmplot(x=\"pair\", y=\"percentChange24h\", data=df_loss, size=20, palette=\"deep\").set(title='Negative 24 Hr % Change under 1 STD')\n",
    "plt.show()\n"
   ]
  },
  {
   "cell_type": "code",
   "execution_count": null,
   "metadata": {},
   "outputs": [],
   "source": []
  }
 ],
 "metadata": {
  "kernelspec": {
   "display_name": "Python 3",
   "language": "python",
   "name": "python3"
  },
  "language_info": {
   "codemirror_mode": {
    "name": "ipython",
    "version": 3
   },
   "file_extension": ".py",
   "mimetype": "text/x-python",
   "name": "python",
   "nbconvert_exporter": "python",
   "pygments_lexer": "ipython3",
   "version": "3.7.6"
  }
 },
 "nbformat": 4,
 "nbformat_minor": 4
}
