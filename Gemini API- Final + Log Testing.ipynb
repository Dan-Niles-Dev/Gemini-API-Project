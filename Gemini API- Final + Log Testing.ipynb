{
 "cells": [
  {
   "cell_type": "code",
   "execution_count": 1,
   "metadata": {},
   "outputs": [],
   "source": [
    "# Import and set anything you might need\n",
    "import requests\n",
    "import json\n",
    "import base64\n",
    "import hmac\n",
    "import hashlib\n",
    "import datetime, time\n",
    "import numpy as np\n",
    "import pandas as pd\n",
    "import seaborn as sns\n",
    "import matplotlib.pyplot as plt\n",
    "import sys\n",
    "from datetime import date\n",
    "d1 = date.today()\n",
    "import logging\n",
    "logging.basicConfig(filename=\"Gemini.log\",\n",
    "                    format='%(asctime)s %(message)s',\n",
    "                    filemode='w')\n",
    "logging.getLogger().setLevel(logging.INFO)"
   ]
  },
  {
   "cell_type": "code",
   "execution_count": 2,
   "metadata": {},
   "outputs": [
    {
     "name": "stdout",
     "output_type": "stream",
     "text": [
      "[{'pair': 'BTCDAI', 'price': '59385.45', 'percentChange24h': '-0.0198'}, {'pair': 'ENJUSD', 'price': '3.2424', 'percentChange24h': '0.0902'}, {'pair': 'BTCGUSD', 'price': '59355.34', 'percentChange24h': '-0.0206'}, {'pair': 'LTCUSD', 'price': '219.55', 'percentChange24h': '-0.0566'}, {'pair': 'LTCBTC', 'price': '0.00368', 'percentChange24h': '-0.0417'}, {'pair': 'LTCETH', 'price': '0.0521', 'percentChange24h': '-0.0493'}, {'pair': 'STORJUSD', 'price': '2.0554', 'percentChange24h': '0.2011'}, {'pair': 'ETHGUSD', 'price': '4191.24', 'percentChange24h': '-0.0126'}, {'pair': 'BTCUSD', 'price': '59333.66', 'percentChange24h': '-0.0194'}, {'pair': 'AMPUSD', 'price': '0.05075', 'percentChange24h': '-0.0475'}, {'pair': 'LTCBCH', 'price': '0.3875', 'percentChange24h': '-0.0105'}, {'pair': 'ZECBCH', 'price': '0.26', 'percentChange24h': '0.0000'}, {'pair': 'FILUSD', 'price': '52.761', 'percentChange24h': '-0.0573'}, {'pair': 'EFILUSD', 'price': '52.761', 'percentChange24h': '-0.0573'}, {'pair': 'KNCUSD', 'price': '1.71111', 'percentChange24h': '-0.0243'}, {'pair': 'ETHSGD', 'price': '5754.76', 'percentChange24h': '-0.0120'}, {'pair': 'USDCUSD', 'price': '1', 'percentChange24h': '0.0002'}, {'pair': 'MCO2USD', 'price': '9.95', 'percentChange24h': '-0.0100'}, {'pair': 'AUDIOUSD', 'price': '2.412', 'percentChange24h': '0.0884'}, {'pair': 'ZECLTC', 'price': '0.704', 'percentChange24h': '0.0000'}, {'pair': 'CUBEUSD', 'price': '17.6428', 'percentChange24h': '0.0769'}, {'pair': 'BALUSD', 'price': '20.7265', 'percentChange24h': '-0.0415'}, {'pair': 'MKRUSD', 'price': '2953.03', 'percentChange24h': '0.0620'}, {'pair': 'AXSUSD', 'price': '134.15', 'percentChange24h': '-0.0271'}, {'pair': 'MIRUSD', 'price': '2.7815', 'percentChange24h': '-0.0230'}, {'pair': 'BCHUSD', 'price': '578.94', 'percentChange24h': '-0.0274'}, {'pair': 'EFILFIL', 'price': '1', 'percentChange24h': '0.0000'}, {'pair': 'CRVUSD', 'price': '4.1189', 'percentChange24h': '0.0442'}, {'pair': 'SKLUSD', 'price': '0.33128', 'percentChange24h': '0.0090'}, {'pair': 'ETHBTC', 'price': '0.07076', 'percentChange24h': '0.0090'}, {'pair': 'BATBTC', 'price': '0.0000175', 'percentChange24h': '-0.0240'}, {'pair': 'BATETH', 'price': '0.0002498', 'percentChange24h': '-0.0556'}, {'pair': '1INCHUSD', 'price': '3.7264', 'percentChange24h': '-0.0386'}, {'pair': 'BTCEUR', 'price': '52362.68', 'percentChange24h': '-0.0215'}, {'pair': 'DOGEUSD', 'price': '0.23138', 'percentChange24h': '-0.0305'}, {'pair': 'INJUSD', 'price': '11.0658', 'percentChange24h': '-0.0649'}, {'pair': 'BTCSGD', 'price': '81388.33', 'percentChange24h': '-0.0195'}, {'pair': 'UMAUSD', 'price': '17.8009', 'percentChange24h': '-0.0598'}, {'pair': 'PAXGUSD', 'price': '1864.65', 'percentChange24h': '0.0018'}, {'pair': 'SLPUSD', 'price': '0.0648', 'percentChange24h': '-0.0122'}, {'pair': 'XTZUSD', 'price': '5.0371', 'percentChange24h': '-0.0470'}, {'pair': 'ALCXUSD', 'price': '383.2', 'percentChange24h': '-0.1185'}, {'pair': 'OXTUSD', 'price': '0.52916', 'percentChange24h': '-0.0494'}, {'pair': 'OXTBTC', 'price': '0.00000891', 'percentChange24h': '-0.0284'}, {'pair': 'MANAUSD', 'price': '3.80918', 'percentChange24h': '0.1624'}, {'pair': 'API3USD', 'price': '5.974', 'percentChange24h': '0.0148'}, {'pair': 'ASHUSD', 'price': '47.463', 'percentChange24h': '-0.0488'}, {'pair': 'UNIUSD', 'price': '21.2816', 'percentChange24h': '-0.0213'}, {'pair': 'BCHBTC', 'price': '0.00972', 'percentChange24h': '-0.0152'}, {'pair': 'BNTUSD', 'price': '4.0332', 'percentChange24h': '-0.0239'}, {'pair': 'SUSHIUSD', 'price': '9.2526', 'percentChange24h': '-0.0756'}, {'pair': 'MATICUSD', 'price': '1.56885', 'percentChange24h': '-0.0153'}, {'pair': 'MASKUSD', 'price': '11.276', 'percentChange24h': '-0.0608'}, {'pair': 'BTCGBP', 'price': '44081.36', 'percentChange24h': '-0.0192'}, {'pair': 'LRCUSD', 'price': '2.40117', 'percentChange24h': '-0.1078'}, {'pair': 'ETHEUR', 'price': '3719.64', 'percentChange24h': '-0.0086'}, {'pair': 'FTMUSD', 'price': '2.0336', 'percentChange24h': '-0.0785'}, {'pair': 'LUNAUSD', 'price': '42.89', 'percentChange24h': '-0.0131'}, {'pair': 'WCFGUSD', 'price': '1.501', 'percentChange24h': '0.0475'}, {'pair': 'OXTETH', 'price': '0.0001263', 'percentChange24h': '-0.0329'}, {'pair': 'ETHDAI', 'price': '4203.25', 'percentChange24h': '-0.0121'}, {'pair': 'ETHGBP', 'price': '3121.16', 'percentChange24h': '-0.0113'}, {'pair': 'RAREUSD', 'price': '1.819', 'percentChange24h': '0.1912'}, {'pair': 'BCHETH', 'price': '0.1384', 'percentChange24h': '-0.0149'}, {'pair': 'LINKBTC', 'price': '0.000476', 'percentChange24h': '-0.0231'}, {'pair': 'SANDUSD', 'price': '4.24422', 'percentChange24h': '0.2351'}, {'pair': 'ZRXUSD', 'price': '1.12875', 'percentChange24h': '-0.0104'}, {'pair': 'GUSDUSD', 'price': '1', 'percentChange24h': '0.0000'}, {'pair': 'ZECETH', 'price': '0.0368', 'percentChange24h': '-0.0442'}, {'pair': 'RADUSD', 'price': '13.801', 'percentChange24h': '-0.0464'}, {'pair': 'LINKUSD', 'price': '28.30324', 'percentChange24h': '-0.0418'}, {'pair': 'NMRUSD', 'price': '40', 'percentChange24h': '-0.0008'}, {'pair': 'SHIBUSD', 'price': '0.00004586', 'percentChange24h': '-0.0708'}, {'pair': 'YFIUSD', 'price': '31911.78', 'percentChange24h': '0.0322'}, {'pair': 'COMPUSD', 'price': '306.79', 'percentChange24h': '-0.0469'}, {'pair': 'LINKETH', 'price': '0.0067443', 'percentChange24h': '-0.0272'}, {'pair': 'BATUSD', 'price': '1.03528', 'percentChange24h': '-0.0438'}, {'pair': 'RENUSD', 'price': '0.7754', 'percentChange24h': '-0.0369'}, {'pair': 'SNXUSD', 'price': '8.614', 'percentChange24h': '-0.0384'}, {'pair': 'ZECUSD', 'price': '155.68', 'percentChange24h': '-0.0472'}, {'pair': 'CTXUSD', 'price': '14.0298', 'percentChange24h': '-0.0983'}, {'pair': 'DAIUSD', 'price': '0.99959', 'percentChange24h': '-0.0007'}, {'pair': 'BONDUSD', 'price': '29.2093', 'percentChange24h': '-0.0222'}, {'pair': 'ZECBTC', 'price': '0.00258', 'percentChange24h': '-0.0409'}, {'pair': 'AAVEUSD', 'price': '274.6882', 'percentChange24h': '-0.0263'}, {'pair': 'FETUSD', 'price': '0.75631', 'percentChange24h': '-0.0336'}, {'pair': 'ETHUSD', 'price': '4200.65', 'percentChange24h': '-0.0103'}, {'pair': 'GRTUSD', 'price': '0.9243', 'percentChange24h': '-0.0089'}, {'pair': 'USTUSD', 'price': '1.004', 'percentChange24h': '0.0010'}, {'pair': 'ANKRUSD', 'price': '0.12859', 'percentChange24h': '-0.0188'}, {'pair': 'LPTUSD', 'price': '50.8658', 'percentChange24h': '-0.1282'}, {'pair': 'DOGEBTC', 'price': '0.00000388', 'percentChange24h': '-0.0127'}, {'pair': 'QNTUSD', 'price': '236.15', 'percentChange24h': '-0.0640'}, {'pair': 'DOGEETH', 'price': '0.00005509', 'percentChange24h': '-0.0211'}]\n"
     ]
    }
   ],
   "source": [
    "# Pull 24 Hour Change Data from Gemini\n",
    "\n",
    "base_url = \"https://api.gemini.com/v1\"\n",
    "response = requests.get(base_url + \"/pricefeed\")\n",
    "prices = response.json()\n",
    "\n",
    "print(prices)\n",
    "logging.info(\"INFO - API GET\")"
   ]
  },
  {
   "cell_type": "code",
   "execution_count": 3,
   "metadata": {
    "scrolled": true
   },
   "outputs": [],
   "source": [
    "# Check to see how the data looks\n",
    "prices\n",
    "logging.info(\"INFO - Check to see how the data looks\")"
   ]
  },
  {
   "cell_type": "code",
   "execution_count": 4,
   "metadata": {
    "scrolled": true
   },
   "outputs": [],
   "source": [
    "# Convert the data into 2 different dataframes, and check the first couple.\n",
    "df_gain = pd.json_normalize(prices)\n",
    "df_loss = pd.json_normalize(prices)\n",
    "df_gain.head()\n",
    "logging.info(\"INFO - Convert the data into 2 different dataframes, and check the first couple.\")"
   ]
  },
  {
   "cell_type": "code",
   "execution_count": 5,
   "metadata": {},
   "outputs": [],
   "source": [
    "# Set all the 24 hour % change data as floats\n",
    "df_gain['percentChange24h'] = df_gain['percentChange24h'].astype(float)\n",
    "df_loss['percentChange24h'] = df_gain['percentChange24h'].astype(float)\n",
    "logging.info(\"INFO - Set all the 24 hour % change data as floats.\")"
   ]
  },
  {
   "cell_type": "code",
   "execution_count": 6,
   "metadata": {},
   "outputs": [],
   "source": [
    "# Set 'x' to the absolute value of all 24 hour % change data \n",
    "x = abs(df_gain['percentChange24h'])\n",
    "x\n",
    "logging.info(\"INFO - Set 'x' to the absolute value of all 24 hour % change data.\")"
   ]
  },
  {
   "cell_type": "code",
   "execution_count": 7,
   "metadata": {},
   "outputs": [],
   "source": [
    "# Get a simple statistical breakdown of the 24 hour % change data\n",
    "x.describe()\n",
    "logging.info(\"INFO - Get a simple statistical breakdown of the 24 hour % change data\")"
   ]
  },
  {
   "cell_type": "code",
   "execution_count": 8,
   "metadata": {},
   "outputs": [],
   "source": [
    "# Set x to the standard deviation of the 24 hour % change data\n",
    "x = x.describe()[\"std\"]\n",
    "x\n",
    "logging.info(f\"INFO std = {x}\")"
   ]
  },
  {
   "cell_type": "code",
   "execution_count": 9,
   "metadata": {},
   "outputs": [],
   "source": [
    "# Adjust the data frames to only show pairs below and about the std\n",
    "logging.getLogger().setLevel(logging.ERROR)\n",
    "df_gain = df_gain[df_gain.percentChange24h > x]\n",
    "df_loss = df_loss[df_loss.percentChange24h < -x]\n",
    "logging.error(f\"ERROR - The following coins are more than one standard deviation in growth from the total 24 hour % change {df_gain}\")\n",
    "logging.error(f\"ERROR - The following coins are more than one standard deviation in growth from the total 24 hour % change {df_loss}\")"
   ]
  },
  {
   "cell_type": "code",
   "execution_count": 10,
   "metadata": {},
   "outputs": [
    {
     "name": "stdout",
     "output_type": "stream",
     "text": [
      "ALERT: The following coins are more than one standard deviation in growth from the total 24 hour % change for 2021-11-18\n",
      " Standard Deviation - 0.043166211090540064%\n"
     ]
    },
    {
     "data": {
      "text/html": [
       "<div>\n",
       "<style scoped>\n",
       "    .dataframe tbody tr th:only-of-type {\n",
       "        vertical-align: middle;\n",
       "    }\n",
       "\n",
       "    .dataframe tbody tr th {\n",
       "        vertical-align: top;\n",
       "    }\n",
       "\n",
       "    .dataframe thead th {\n",
       "        text-align: right;\n",
       "    }\n",
       "</style>\n",
       "<table border=\"1\" class=\"dataframe\">\n",
       "  <thead>\n",
       "    <tr style=\"text-align: right;\">\n",
       "      <th></th>\n",
       "      <th>pair</th>\n",
       "      <th>price</th>\n",
       "      <th>percentChange24h</th>\n",
       "    </tr>\n",
       "  </thead>\n",
       "  <tbody>\n",
       "    <tr>\n",
       "      <th>1</th>\n",
       "      <td>ENJUSD</td>\n",
       "      <td>3.2424</td>\n",
       "      <td>0.0902</td>\n",
       "    </tr>\n",
       "    <tr>\n",
       "      <th>6</th>\n",
       "      <td>STORJUSD</td>\n",
       "      <td>2.0554</td>\n",
       "      <td>0.2011</td>\n",
       "    </tr>\n",
       "    <tr>\n",
       "      <th>18</th>\n",
       "      <td>AUDIOUSD</td>\n",
       "      <td>2.412</td>\n",
       "      <td>0.0884</td>\n",
       "    </tr>\n",
       "    <tr>\n",
       "      <th>20</th>\n",
       "      <td>CUBEUSD</td>\n",
       "      <td>17.6428</td>\n",
       "      <td>0.0769</td>\n",
       "    </tr>\n",
       "    <tr>\n",
       "      <th>22</th>\n",
       "      <td>MKRUSD</td>\n",
       "      <td>2953.03</td>\n",
       "      <td>0.0620</td>\n",
       "    </tr>\n",
       "    <tr>\n",
       "      <th>27</th>\n",
       "      <td>CRVUSD</td>\n",
       "      <td>4.1189</td>\n",
       "      <td>0.0442</td>\n",
       "    </tr>\n",
       "    <tr>\n",
       "      <th>44</th>\n",
       "      <td>MANAUSD</td>\n",
       "      <td>3.80918</td>\n",
       "      <td>0.1624</td>\n",
       "    </tr>\n",
       "    <tr>\n",
       "      <th>58</th>\n",
       "      <td>WCFGUSD</td>\n",
       "      <td>1.501</td>\n",
       "      <td>0.0475</td>\n",
       "    </tr>\n",
       "    <tr>\n",
       "      <th>62</th>\n",
       "      <td>RAREUSD</td>\n",
       "      <td>1.819</td>\n",
       "      <td>0.1912</td>\n",
       "    </tr>\n",
       "    <tr>\n",
       "      <th>65</th>\n",
       "      <td>SANDUSD</td>\n",
       "      <td>4.24422</td>\n",
       "      <td>0.2351</td>\n",
       "    </tr>\n",
       "  </tbody>\n",
       "</table>\n",
       "</div>"
      ],
      "text/plain": [
       "        pair    price  percentChange24h\n",
       "1     ENJUSD   3.2424            0.0902\n",
       "6   STORJUSD   2.0554            0.2011\n",
       "18  AUDIOUSD    2.412            0.0884\n",
       "20   CUBEUSD  17.6428            0.0769\n",
       "22    MKRUSD  2953.03            0.0620\n",
       "27    CRVUSD   4.1189            0.0442\n",
       "44   MANAUSD  3.80918            0.1624\n",
       "58   WCFGUSD    1.501            0.0475\n",
       "62   RAREUSD    1.819            0.1912\n",
       "65   SANDUSD  4.24422            0.2351"
      ]
     },
     "execution_count": 10,
     "metadata": {},
     "output_type": "execute_result"
    }
   ],
   "source": [
    "print(f\"ALERT: The following coins are more than one standard deviation in growth from the total 24 hour % change for {d1}\\n Standard Deviation - {x}%\")\n",
    "df_gain"
   ]
  },
  {
   "cell_type": "code",
   "execution_count": 11,
   "metadata": {},
   "outputs": [
    {
     "name": "stdout",
     "output_type": "stream",
     "text": [
      "ALERT: The following coins are more than one standard deviation in loss from the total 24 hour % change for 2021-11-18\n",
      " Standard Deviation - 0.043166211090540064%\n"
     ]
    },
    {
     "data": {
      "text/html": [
       "<div>\n",
       "<style scoped>\n",
       "    .dataframe tbody tr th:only-of-type {\n",
       "        vertical-align: middle;\n",
       "    }\n",
       "\n",
       "    .dataframe tbody tr th {\n",
       "        vertical-align: top;\n",
       "    }\n",
       "\n",
       "    .dataframe thead th {\n",
       "        text-align: right;\n",
       "    }\n",
       "</style>\n",
       "<table border=\"1\" class=\"dataframe\">\n",
       "  <thead>\n",
       "    <tr style=\"text-align: right;\">\n",
       "      <th></th>\n",
       "      <th>pair</th>\n",
       "      <th>price</th>\n",
       "      <th>percentChange24h</th>\n",
       "    </tr>\n",
       "  </thead>\n",
       "  <tbody>\n",
       "    <tr>\n",
       "      <th>3</th>\n",
       "      <td>LTCUSD</td>\n",
       "      <td>219.55</td>\n",
       "      <td>-0.0566</td>\n",
       "    </tr>\n",
       "    <tr>\n",
       "      <th>5</th>\n",
       "      <td>LTCETH</td>\n",
       "      <td>0.0521</td>\n",
       "      <td>-0.0493</td>\n",
       "    </tr>\n",
       "    <tr>\n",
       "      <th>9</th>\n",
       "      <td>AMPUSD</td>\n",
       "      <td>0.05075</td>\n",
       "      <td>-0.0475</td>\n",
       "    </tr>\n",
       "    <tr>\n",
       "      <th>12</th>\n",
       "      <td>FILUSD</td>\n",
       "      <td>52.761</td>\n",
       "      <td>-0.0573</td>\n",
       "    </tr>\n",
       "    <tr>\n",
       "      <th>13</th>\n",
       "      <td>EFILUSD</td>\n",
       "      <td>52.761</td>\n",
       "      <td>-0.0573</td>\n",
       "    </tr>\n",
       "    <tr>\n",
       "      <th>31</th>\n",
       "      <td>BATETH</td>\n",
       "      <td>0.0002498</td>\n",
       "      <td>-0.0556</td>\n",
       "    </tr>\n",
       "    <tr>\n",
       "      <th>35</th>\n",
       "      <td>INJUSD</td>\n",
       "      <td>11.0658</td>\n",
       "      <td>-0.0649</td>\n",
       "    </tr>\n",
       "    <tr>\n",
       "      <th>37</th>\n",
       "      <td>UMAUSD</td>\n",
       "      <td>17.8009</td>\n",
       "      <td>-0.0598</td>\n",
       "    </tr>\n",
       "    <tr>\n",
       "      <th>40</th>\n",
       "      <td>XTZUSD</td>\n",
       "      <td>5.0371</td>\n",
       "      <td>-0.0470</td>\n",
       "    </tr>\n",
       "    <tr>\n",
       "      <th>41</th>\n",
       "      <td>ALCXUSD</td>\n",
       "      <td>383.2</td>\n",
       "      <td>-0.1185</td>\n",
       "    </tr>\n",
       "    <tr>\n",
       "      <th>42</th>\n",
       "      <td>OXTUSD</td>\n",
       "      <td>0.52916</td>\n",
       "      <td>-0.0494</td>\n",
       "    </tr>\n",
       "    <tr>\n",
       "      <th>46</th>\n",
       "      <td>ASHUSD</td>\n",
       "      <td>47.463</td>\n",
       "      <td>-0.0488</td>\n",
       "    </tr>\n",
       "    <tr>\n",
       "      <th>50</th>\n",
       "      <td>SUSHIUSD</td>\n",
       "      <td>9.2526</td>\n",
       "      <td>-0.0756</td>\n",
       "    </tr>\n",
       "    <tr>\n",
       "      <th>52</th>\n",
       "      <td>MASKUSD</td>\n",
       "      <td>11.276</td>\n",
       "      <td>-0.0608</td>\n",
       "    </tr>\n",
       "    <tr>\n",
       "      <th>54</th>\n",
       "      <td>LRCUSD</td>\n",
       "      <td>2.40117</td>\n",
       "      <td>-0.1078</td>\n",
       "    </tr>\n",
       "    <tr>\n",
       "      <th>56</th>\n",
       "      <td>FTMUSD</td>\n",
       "      <td>2.0336</td>\n",
       "      <td>-0.0785</td>\n",
       "    </tr>\n",
       "    <tr>\n",
       "      <th>68</th>\n",
       "      <td>ZECETH</td>\n",
       "      <td>0.0368</td>\n",
       "      <td>-0.0442</td>\n",
       "    </tr>\n",
       "    <tr>\n",
       "      <th>69</th>\n",
       "      <td>RADUSD</td>\n",
       "      <td>13.801</td>\n",
       "      <td>-0.0464</td>\n",
       "    </tr>\n",
       "    <tr>\n",
       "      <th>72</th>\n",
       "      <td>SHIBUSD</td>\n",
       "      <td>0.00004586</td>\n",
       "      <td>-0.0708</td>\n",
       "    </tr>\n",
       "    <tr>\n",
       "      <th>74</th>\n",
       "      <td>COMPUSD</td>\n",
       "      <td>306.79</td>\n",
       "      <td>-0.0469</td>\n",
       "    </tr>\n",
       "    <tr>\n",
       "      <th>76</th>\n",
       "      <td>BATUSD</td>\n",
       "      <td>1.03528</td>\n",
       "      <td>-0.0438</td>\n",
       "    </tr>\n",
       "    <tr>\n",
       "      <th>79</th>\n",
       "      <td>ZECUSD</td>\n",
       "      <td>155.68</td>\n",
       "      <td>-0.0472</td>\n",
       "    </tr>\n",
       "    <tr>\n",
       "      <th>80</th>\n",
       "      <td>CTXUSD</td>\n",
       "      <td>14.0298</td>\n",
       "      <td>-0.0983</td>\n",
       "    </tr>\n",
       "    <tr>\n",
       "      <th>90</th>\n",
       "      <td>LPTUSD</td>\n",
       "      <td>50.8658</td>\n",
       "      <td>-0.1282</td>\n",
       "    </tr>\n",
       "    <tr>\n",
       "      <th>92</th>\n",
       "      <td>QNTUSD</td>\n",
       "      <td>236.15</td>\n",
       "      <td>-0.0640</td>\n",
       "    </tr>\n",
       "  </tbody>\n",
       "</table>\n",
       "</div>"
      ],
      "text/plain": [
       "        pair       price  percentChange24h\n",
       "3     LTCUSD      219.55           -0.0566\n",
       "5     LTCETH      0.0521           -0.0493\n",
       "9     AMPUSD     0.05075           -0.0475\n",
       "12    FILUSD      52.761           -0.0573\n",
       "13   EFILUSD      52.761           -0.0573\n",
       "31    BATETH   0.0002498           -0.0556\n",
       "35    INJUSD     11.0658           -0.0649\n",
       "37    UMAUSD     17.8009           -0.0598\n",
       "40    XTZUSD      5.0371           -0.0470\n",
       "41   ALCXUSD       383.2           -0.1185\n",
       "42    OXTUSD     0.52916           -0.0494\n",
       "46    ASHUSD      47.463           -0.0488\n",
       "50  SUSHIUSD      9.2526           -0.0756\n",
       "52   MASKUSD      11.276           -0.0608\n",
       "54    LRCUSD     2.40117           -0.1078\n",
       "56    FTMUSD      2.0336           -0.0785\n",
       "68    ZECETH      0.0368           -0.0442\n",
       "69    RADUSD      13.801           -0.0464\n",
       "72   SHIBUSD  0.00004586           -0.0708\n",
       "74   COMPUSD      306.79           -0.0469\n",
       "76    BATUSD     1.03528           -0.0438\n",
       "79    ZECUSD      155.68           -0.0472\n",
       "80    CTXUSD     14.0298           -0.0983\n",
       "90    LPTUSD     50.8658           -0.1282\n",
       "92    QNTUSD      236.15           -0.0640"
      ]
     },
     "execution_count": 11,
     "metadata": {},
     "output_type": "execute_result"
    }
   ],
   "source": [
    "print(f\"ALERT: The following coins are more than one standard deviation in loss from the total 24 hour % change for {d1}\\n Standard Deviation - {x}%\")\n",
    "df_loss"
   ]
  },
  {
   "cell_type": "code",
   "execution_count": 12,
   "metadata": {},
   "outputs": [
    {
     "data": {
      "image/png": "[encoded data removed]",
      "text/plain": [
       "<Figure size 1440x720 with 1 Axes>"
      ]
     },
     "metadata": {},
     "output_type": "display_data"
    }
   ],
   "source": [
    "sns.set_style(\"darkgrid\")\n",
    "fig = plt.gcf()\n",
    "fig.set_size_inches(20,10)\n",
    "sns.swarmplot(x=\"pair\", y=\"percentChange24h\", data=df_gain, size=20, palette=\"deep\").set(title=f'{d1}: Positive 24 Hr % Change over 1 STD')\n",
    "plt.show()\n",
    "logging.error(\"ERROR - Scatterplot for Positive 24 Hr % Change over 1 STD\")"
   ]
  },
  {
   "cell_type": "code",
   "execution_count": 13,
   "metadata": {},
   "outputs": [
    {
     "data": {
      "image/png": "[encoded data removed]",
      "text/plain": [
       "<Figure size 1728x720 with 1 Axes>"
      ]
     },
     "metadata": {},
     "output_type": "display_data"
    }
   ],
   "source": [
    "sns.set_style(\"darkgrid\")\n",
    "fig = plt.gcf()\n",
    "fig.set_size_inches(24,10)\n",
    "sns.swarmplot(x=\"pair\", y=\"percentChange24h\", data=df_loss, size=20, palette=\"deep\").set(title='Negative 24 Hr % Change under 1 STD')\n",
    "plt.show()\n",
    "logging.error(\"ERROR - Scatterplot for Negative 24 Hr % Change under 1 STD\")"
   ]
  },
  {
   "cell_type": "code",
   "execution_count": null,
   "metadata": {},
   "outputs": [],
   "source": []
  }
 ],
 "metadata": {
  "kernelspec": {
   "display_name": "Python 3",
   "language": "python",
   "name": "python3"
  },
  "language_info": {
   "codemirror_mode": {
    "name": "ipython",
    "version": 3
   },
   "file_extension": ".py",
   "mimetype": "text/x-python",
   "name": "python",
   "nbconvert_exporter": "python",
   "pygments_lexer": "ipython3",
   "version": "3.7.6"
  }
 },
 "nbformat": 4,
 "nbformat_minor": 4
}
